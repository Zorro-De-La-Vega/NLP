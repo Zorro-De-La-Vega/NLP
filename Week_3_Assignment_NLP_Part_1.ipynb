{
  "nbformat": 4,
  "nbformat_minor": 0,
  "metadata": {
    "colab": {
      "provenance": [],
      "gpuType": "T4",
      "authorship_tag": "ABX9TyPfpRMlM8KCcvUI9vyLBKQL",
      "include_colab_link": true
    },
    "kernelspec": {
      "name": "python3",
      "display_name": "Python 3"
    },
    "language_info": {
      "name": "python"
    }
  },
  "cells": [
    {
      "cell_type": "markdown",
      "metadata": {
        "id": "view-in-github",
        "colab_type": "text"
      },
      "source": [
        "<a href=\"https://colab.research.google.com/github/Zorro-De-La-Vega/NLP/blob/main/Week_3_Assignment_NLP_Part_1.ipynb\" target=\"_parent\"><img src=\"https://colab.research.google.com/assets/colab-badge.svg\" alt=\"Open In Colab\"/></a>"
      ]
    },
    {
      "cell_type": "code",
      "execution_count": null,
      "metadata": {
        "id": "yJTbyb2jP97_",
        "colab": {
          "base_uri": "https://localhost:8080/"
        },
        "outputId": "e33dbae4-ceb9-4234-8da0-557cd4229005"
      },
      "outputs": [
        {
          "output_type": "stream",
          "name": "stdout",
          "text": [
            "Bag of Words (BoW) Matrix:\n",
            "   and  are  beautiful  blue  bright  can  in  is  see  shining  sky  sun  \\\n",
            "0    0    0          0     1       0    0   0   1    0        0    1    0   \n",
            "1    0    0          0     0       1    0   0   1    0        0    0    1   \n",
            "2    0    0          0     0       1    0   1   1    0        0    1    1   \n",
            "3    0    0          0     0       1    1   0   0    1        1    1    1   \n",
            "4    1    1          1     0       0    0   0   0    0        0    1    1   \n",
            "\n",
            "   the  we  \n",
            "0    1   0  \n",
            "1    1   0  \n",
            "2    2   0  \n",
            "3    2   1  \n",
            "4    2   0  \n"
          ]
        }
      ],
      "source": [
        "from sklearn.feature_extraction.text import CountVectorizer, TfidfVectorizer\n",
        "import pandas as pd\n",
        "\n",
        "# Define the sentences\n",
        "sentences = [\n",
        "    \"The sky is blue.\",\n",
        "    \"The sun is bright.\",\n",
        "    \"The sun in the sky is bright.\",\n",
        "    \"We can see the shining sun, the bright sky.\",\n",
        "    \"The sky and the sun are beautiful.\" ]\n",
        "\n",
        "# Create Bag of Words Matrix\n",
        "count_vectorizer = CountVectorizer()\n",
        "BoW_matrix = count_vectorizer.fit_transform(sentences)\n",
        "\n",
        "# Convert to DataFrame for better readability\n",
        "BoW_df = pd.DataFrame(bow_matrix.toarray(), columns=count_vectorizer.get_feature_names_out())\n",
        "print(\"Bag of Words (BoW) Matrix:\")\n",
        "print(BoW_df)\n"
      ]
    },
    {
      "cell_type": "code",
      "source": [
        "#Create TF-IDF Matrix\n",
        "tfidf_vectorizer = TfidfVectorizer()\n",
        "tfidf_matrix = tfidf_vectorizer.fit_transform(sentences)\n",
        "\n",
        "#Convert to DataFrame for better readability\n",
        "tfidf_df = pd.DataFrame(tfidf_matrix.toarray(), columns=tfidf_vectorizer.get_feature_names_out())\n",
        "print(\"\\nTF-IDF Matrix:\")\n",
        "print(tfidf_df)"
      ],
      "metadata": {
        "colab": {
          "base_uri": "https://localhost:8080/"
        },
        "id": "Cgz5QGbilXTM",
        "outputId": "3a7c89d3-0878-4b08-faf1-b76638446a8e"
      },
      "execution_count": null,
      "outputs": [
        {
          "output_type": "stream",
          "name": "stdout",
          "text": [
            "\n",
            "TF-IDF Matrix:\n",
            "        and       are  beautiful      blue    bright       can        in  \\\n",
            "0  0.000000  0.000000   0.000000  0.708353  0.000000  0.000000  0.000000   \n",
            "1  0.000000  0.000000   0.000000  0.000000  0.557806  0.000000  0.000000   \n",
            "2  0.000000  0.000000   0.000000  0.000000  0.361081  0.000000  0.539159   \n",
            "3  0.000000  0.000000   0.000000  0.000000  0.273602  0.408536  0.000000   \n",
            "4  0.469167  0.469167   0.469167  0.000000  0.000000  0.000000  0.000000   \n",
            "\n",
            "         is       see   shining       sky       sun       the        we  \n",
            "0  0.474392  0.000000  0.000000  0.399074  0.000000  0.337534  0.000000  \n",
            "1  0.557806  0.000000  0.000000  0.000000  0.469244  0.396883  0.000000  \n",
            "2  0.361081  0.000000  0.000000  0.303753  0.303753  0.513825  0.000000  \n",
            "3  0.000000  0.408536  0.408536  0.230162  0.230162  0.389339  0.408536  \n",
            "4  0.000000  0.000000  0.000000  0.264320  0.264320  0.447121  0.000000  \n"
          ]
        }
      ]
    },
    {
      "cell_type": "code",
      "source": [
        "from sklearn.feature_extraction.text import TfidfVectorizer\n",
        "\n",
        "# Initializing the TF-IDF vectorizer\n",
        "tfidf_vectorizer = TfidfVectorizer(stop_words='english')\n",
        "\n",
        "\n",
        "# Transforming the text data\n",
        "X_tfidf = tfidf_vectorizer.fit_transform(sentences)\n",
        "\n",
        "\n",
        "# Convert to DataFrame for better readability\n",
        "tfidf_df = pd.DataFrame(X_tfidf.toarray(), columns=tfidf_vectorizer.get_feature_names_out())\n",
        "print(\"\\nTF-IDF Matrix:\")\n",
        "print(tfidf_df)"
      ],
      "metadata": {
        "colab": {
          "base_uri": "https://localhost:8080/"
        },
        "id": "n062RQ1mrgcw",
        "outputId": "d9b196bb-8585-4a49-d6ae-2f822ec491ab"
      },
      "execution_count": null,
      "outputs": [
        {
          "output_type": "stream",
          "name": "stdout",
          "text": [
            "\n",
            "TF-IDF Matrix:\n",
            "   beautiful      blue    bright   shining       sky       sun\n",
            "0    0.00000  0.871247  0.000000  0.000000  0.490845  0.000000\n",
            "1    0.00000  0.000000  0.765241  0.000000  0.000000  0.643744\n",
            "2    0.00000  0.000000  0.643444  0.000000  0.541285  0.541285\n",
            "3    0.00000  0.000000  0.463992  0.692824  0.390325  0.390325\n",
            "4    0.78211  0.000000  0.000000  0.000000  0.440627  0.440627\n"
          ]
        }
      ]
    }
  ]
}