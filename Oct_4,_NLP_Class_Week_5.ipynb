{
  "nbformat": 4,
  "nbformat_minor": 0,
  "metadata": {
    "colab": {
      "provenance": [],
      "authorship_tag": "ABX9TyOTlGvv/wKJYHIYn8ivzUyC",
      "include_colab_link": true
    },
    "kernelspec": {
      "name": "python3",
      "display_name": "Python 3"
    },
    "language_info": {
      "name": "python"
    }
  },
  "cells": [
    {
      "cell_type": "markdown",
      "metadata": {
        "id": "view-in-github",
        "colab_type": "text"
      },
      "source": [
        "<a href=\"https://colab.research.google.com/github/Zorro-De-La-Vega/NLP/blob/main/Oct_4%2C_NLP_Class_Week_5.ipynb\" target=\"_parent\"><img src=\"https://colab.research.google.com/assets/colab-badge.svg\" alt=\"Open In Colab\"/></a>"
      ]
    },
    {
      "cell_type": "code",
      "execution_count": null,
      "metadata": {
        "id": "IwLowzYryKWI"
      },
      "outputs": [],
      "source": [
        "# Importing necessary libraries\n",
        "import pandas as pd\n",
        "\n",
        "# Loading the dataset\n",
        "url = \"https://raw.githubusercontent.com/Zorro-De-La-Vega/NLP/refs/heads/main/tmdb_5000_movies.csv\"\n",
        "df = pd.read_csv(url)\n",
        "\n",
        "# Displaying the first few rows of the dataset\n",
        "df.head()"
      ]
    }
  ]
}